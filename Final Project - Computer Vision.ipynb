{
 "cells": [
  {
   "cell_type": "markdown",
   "id": "3a73611d",
   "metadata": {},
   "source": [
    "# Ada di collab"
   ]
  },
  {
   "cell_type": "markdown",
   "id": "5da5b9e5",
   "metadata": {},
   "source": [
    "[Link Collab](https://colab.research.google.com/drive/19A17I7MgEN1JlQCQXUchDL9mn-XNOdZG?usp=sharing)"
   ]
  }
 ],
 "metadata": {
  "kernelspec": {
   "display_name": "Python 3 (ipykernel)",
   "language": "python",
   "name": "python3"
  },
  "language_info": {
   "codemirror_mode": {
    "name": "ipython",
    "version": 3
   },
   "file_extension": ".py",
   "mimetype": "text/x-python",
   "name": "python",
   "nbconvert_exporter": "python",
   "pygments_lexer": "ipython3",
   "version": "3.11.4"
  },
  "toc": {
   "base_numbering": 1,
   "nav_menu": {},
   "number_sections": true,
   "sideBar": true,
   "skip_h1_title": false,
   "title_cell": "Table of Contents",
   "title_sidebar": "Contents",
   "toc_cell": false,
   "toc_position": {},
   "toc_section_display": true,
   "toc_window_display": false
  }
 },
 "nbformat": 4,
 "nbformat_minor": 5
}
