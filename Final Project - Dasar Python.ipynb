{
 "cells": [
  {
   "cell_type": "markdown",
   "id": "ed2cf0d3",
   "metadata": {},
   "source": [
    "# SOAL - Final Project"
   ]
  },
  {
   "cell_type": "markdown",
   "id": "467ee9c9",
   "metadata": {},
   "source": [
    "Buatlah Task sebagai berikut:\n",
    "\n",
    "1. Buatlah program Faktorial dari suatu bilangan, misalkan input n = 5, maka nilai faktorial adalah 120. Gunakan fungsi rekursif\n",
    "2. Buatlah program Faktor Bilangan, misalkan input n = 100, maka nilai faktor bilangan adalah {1,2,4,5,10,20,25,50,100}\n",
    "3. Screenshoot dan kumpulkan dalam bentuk PDF sebagai tugas akhir pada tombol \"Submit Tugas Akhir\"\n",
    "4.  Isi Review pada Menu Info dan Unduh Sertifikatnya\n",
    "5.  Setelah dinyatakan lulus dengan sertifikat anda dapat Upload Portofolio pengerjaan anda pada menu upload portofolio di halaman berikut: https://bisa.ai/portofolioku, Gunakan teknik Story Telling, Visualisasi, Video penjelasan agar portofolio yang anda buat menjadi menarik. Anda dapat melihat contoh portofolio yang dibuat oleh peserta pelatihan di https://bisa.ai/portofolio\n",
    "\n",
    "Guru akan memeriksa rutin Portofolio yang anda kerjakan setiap Senin, Rabu atau Jumat, Portofolio yang sudah diperiksa oleh guru akan terbit pada halaman https://bisa.ai/portofolio. Share Portofolio anda ke publik dengan menekan tombol Share. Kumpulkan Screenshoot Portofolio yang anda buat di halaman assignment tugas.\n",
    "\n",
    "Format pengumpulan: PDF Maksimal 2MB"
   ]
  },
  {
   "cell_type": "markdown",
   "id": "ec073c49",
   "metadata": {},
   "source": [
    "# Jawaban 1"
   ]
  },
  {
   "cell_type": "code",
   "execution_count": 20,
   "id": "22989890",
   "metadata": {},
   "outputs": [],
   "source": [
    "def faktorial(angka):\n",
    "    if angka == 0:\n",
    "        print(\"Langkah\", 0, \": Base case tercapai, mengembalikan 1\")\n",
    "        return 1\n",
    "    else:\n",
    "        hasil = angka * faktorial(angka - 1)\n",
    "        print(\"Langkah\", angka, \":\", angka, \"*\", \"faktorial(\", angka - 1, \") =\", hasil)\n",
    "        return hasil"
   ]
  },
  {
   "cell_type": "code",
   "execution_count": 21,
   "id": "aae73f86",
   "metadata": {},
   "outputs": [
    {
     "name": "stdout",
     "output_type": "stream",
     "text": [
      "Masukkan bilangan: 5\n",
      "Langkah 0 : Base case tercapai, mengembalikan 1\n",
      "Langkah 1 : 1 * faktorial( 0 ) = 1\n",
      "Langkah 2 : 2 * faktorial( 1 ) = 2\n",
      "Langkah 3 : 3 * faktorial( 2 ) = 6\n",
      "Langkah 4 : 4 * faktorial( 3 ) = 24\n",
      "Langkah 5 : 5 * faktorial( 4 ) = 120\n",
      "\n",
      "Faktorial dari 5 adalah 120\n"
     ]
    }
   ],
   "source": [
    "# Input bilangan\n",
    "bilangan = int(input(\"Masukkan bilangan: \"))\n",
    "\n",
    "# Menghitung faktorial\n",
    "hasil_faktorial = faktorial(bilangan)\n",
    "print(\"\\nFaktorial dari\", bilangan, \"adalah\", hasil_faktorial)"
   ]
  },
  {
   "cell_type": "markdown",
   "id": "248cd496",
   "metadata": {},
   "source": [
    "# Jawaban 2"
   ]
  },
  {
   "cell_type": "code",
   "execution_count": 22,
   "id": "4dbb52e5",
   "metadata": {},
   "outputs": [],
   "source": [
    "def faktor_bilangan(n):\n",
    "    faktor = []  \n",
    "    for i in range(1, n + 1):  \n",
    "        if n % i == 0:  \n",
    "            faktor.append(i)  \n",
    "            print(\"Memeriksa\", i, \"sebagai faktor, karena\", n, \"dibagi oleh\", i)\n",
    "    return faktor "
   ]
  },
  {
   "cell_type": "code",
   "execution_count": 24,
   "id": "449ed2dd",
   "metadata": {},
   "outputs": [
    {
     "name": "stdout",
     "output_type": "stream",
     "text": [
      "Masukkan bilangan: 50\n",
      "Memeriksa 1 sebagai faktor, karena 50 dibagi oleh 1\n",
      "Memeriksa 2 sebagai faktor, karena 50 dibagi oleh 2\n",
      "Memeriksa 5 sebagai faktor, karena 50 dibagi oleh 5\n",
      "Memeriksa 10 sebagai faktor, karena 50 dibagi oleh 10\n",
      "Memeriksa 25 sebagai faktor, karena 50 dibagi oleh 25\n",
      "Memeriksa 50 sebagai faktor, karena 50 dibagi oleh 50\n",
      "\n",
      "Faktor dari 50 adalah [1, 2, 5, 10, 25, 50]\n"
     ]
    }
   ],
   "source": [
    "# Input bilangan\n",
    "bilangan = int(input(\"Masukkan bilangan: \"))\n",
    "\n",
    "# Mendapatkan faktor bilangan\n",
    "hasil_faktor = faktor_bilangan(bilangan)\n",
    "\n",
    "print(\"\\nFaktor dari\", bilangan, \"adalah\", hasil_faktor)"
   ]
  }
 ],
 "metadata": {
  "kernelspec": {
   "display_name": "Python 3 (ipykernel)",
   "language": "python",
   "name": "python3"
  },
  "language_info": {
   "codemirror_mode": {
    "name": "ipython",
    "version": 3
   },
   "file_extension": ".py",
   "mimetype": "text/x-python",
   "name": "python",
   "nbconvert_exporter": "python",
   "pygments_lexer": "ipython3",
   "version": "3.11.4"
  },
  "toc": {
   "base_numbering": 1,
   "nav_menu": {},
   "number_sections": true,
   "sideBar": true,
   "skip_h1_title": false,
   "title_cell": "Table of Contents",
   "title_sidebar": "Contents",
   "toc_cell": false,
   "toc_position": {
    "height": "calc(100% - 180px)",
    "left": "10px",
    "top": "150px",
    "width": "196.8px"
   },
   "toc_section_display": true,
   "toc_window_display": true
  }
 },
 "nbformat": 4,
 "nbformat_minor": 5
}
